{
 "cells": [
  {
   "cell_type": "markdown",
   "metadata": {},
   "source": [
    "#This notebook describes the GNSS raw and derived data downloading and preprocessing scripts.\n"
   ]
  },
  {
   "cell_type": "code",
   "execution_count": 2,
   "metadata": {},
   "outputs": [],
   "source": [
    "import numpy as np\n",
    "import pandas as pd\n",
    "import matplotlib.pyplot as plt\n",
    "%matplotlib inline"
   ]
  },
  {
   "cell_type": "code",
   "execution_count": 8,
   "metadata": {},
   "outputs": [
    {
     "name": "stdout",
     "output_type": "stream",
     "text": [
      "/home/kibrom/kwork/sw-GNSS/fdl18_Frontiers/GNSS_data_derived_products\r\n"
     ]
    }
   ],
   "source": [
    "!pwd"
   ]
  },
  {
   "cell_type": "code",
   "execution_count": 9,
   "metadata": {},
   "outputs": [
    {
     "name": "stdout",
     "output_type": "stream",
     "text": [
      "CHAIN_data_labels.xlsx\t\t  Download_GNSS_CHAIN_data.py\r\n",
      "CHAIN_stations_GSV4004Bonly.xlsx  GNSS_ISMR_data_preparation.ipynb\r\n",
      "CHAIN_stations_PolaRxSonly.xlsx   Preprocess_GNSS_data_for_pipeline.py\r\n"
     ]
    }
   ],
   "source": [
    "!ls"
   ]
  },
  {
   "cell_type": "markdown",
   "metadata": {},
   "source": [
    "# Step 1: Download raw GNSS data"
   ]
  },
  {
   "cell_type": "markdown",
   "metadata": {},
   "source": [
    "\n",
    "1.1. Required files:\n",
    "\n",
    "A). Download_GNSS_CHAIN_data.py --- this script downlads GNSS ISMR data from the \n",
    "Canadian High Arctic Ionospheric Network (CHAIN) website (chain.physics.unb.ca). The script requires an input file (see B.))\n",
    "\n"
   ]
  },
  {
   "cell_type": "code",
   "execution_count": 35,
   "metadata": {},
   "outputs": [
    {
     "name": "stdout",
     "output_type": "stream",
     "text": [
      "\tprint('numprocessors = {0}'.format(numprocessors))\r\n",
      "\t\r\n",
      "\tpool = multiprocessing.Pool(numprocessors)\r\n",
      "\tdatetime_start = datetime.datetime(2017,1,1)\r\n",
      "\tinput_datetimes = [ (datetime_start + datetime.timedelta(days=d)) for d in (range(2)) ]\r\n",
      "\tpool.map(PolaRxS_batchDataDownloadToLocal,input_datetimes) \r\n",
      "\r\n",
      "\r\n",
      "if __name__=='__main__':\r\n",
      "\tmain()\r\n"
     ]
    }
   ],
   "source": [
    "!tail  Download_GNSS_CHAIN_data.py"
   ]
  },
  {
   "cell_type": "markdown",
   "metadata": {},
   "source": [
    "--------------------------------------------------------------------------------\n",
    "---------------------------------------------------------------------------------"
   ]
  },
  {
   "cell_type": "markdown",
   "metadata": {},
   "source": [
    "B). CHAIN_data_labels.xlsx - This spreadsheet file contains all (62) ionospheric scintillation monitoring records based on pages 31 - 33 of the PolaRxS Application Manual (https://ftp.space.dtu.dk/pub/bm/Septentrio/polarx5s_User_Manual_1%200%202%20(1).pdf) from Septentrio (https://www.septentrio.com)\n",
    "\n",
    "NB: PolaRxS is a Multi-GNSS Multi-frequency receiver for ionospheric applications\n"
   ]
  },
  {
   "cell_type": "code",
   "execution_count": 23,
   "metadata": {},
   "outputs": [
    {
     "data": {
      "text/html": [
       "<div>\n",
       "<style scoped>\n",
       "    .dataframe tbody tr th:only-of-type {\n",
       "        vertical-align: middle;\n",
       "    }\n",
       "\n",
       "    .dataframe tbody tr th {\n",
       "        vertical-align: top;\n",
       "    }\n",
       "\n",
       "    .dataframe thead th {\n",
       "        text-align: right;\n",
       "    }\n",
       "</style>\n",
       "<table border=\"1\" class=\"dataframe\">\n",
       "  <thead>\n",
       "    <tr style=\"text-align: right;\">\n",
       "      <th></th>\n",
       "      <th>0</th>\n",
       "    </tr>\n",
       "  </thead>\n",
       "  <tbody>\n",
       "    <tr>\n",
       "      <th>0</th>\n",
       "      <td>WN, GPS Week Number</td>\n",
       "    </tr>\n",
       "    <tr>\n",
       "      <th>1</th>\n",
       "      <td>TOW, GPS Time of Week (seconds)</td>\n",
       "    </tr>\n",
       "    <tr>\n",
       "      <th>2</th>\n",
       "      <td>SVID (see numbering convention in the SBF Outl...</td>\n",
       "    </tr>\n",
       "    <tr>\n",
       "      <th>3</th>\n",
       "      <td>Value of the RxState field of the ReceiverStat...</td>\n",
       "    </tr>\n",
       "    <tr>\n",
       "      <th>4</th>\n",
       "      <td>Azimuth (degrees)</td>\n",
       "    </tr>\n",
       "    <tr>\n",
       "      <th>5</th>\n",
       "      <td>Elevation (degrees)</td>\n",
       "    </tr>\n",
       "  </tbody>\n",
       "</table>\n",
       "</div>"
      ],
      "text/plain": [
       "                                                   0\n",
       "0                                WN, GPS Week Number\n",
       "1                    TOW, GPS Time of Week (seconds)\n",
       "2  SVID (see numbering convention in the SBF Outl...\n",
       "3  Value of the RxState field of the ReceiverStat...\n",
       "4                                  Azimuth (degrees)\n",
       "5                                Elevation (degrees)"
      ]
     },
     "metadata": {},
     "output_type": "display_data"
    },
    {
     "data": {
      "text/html": [
       "<div>\n",
       "<style scoped>\n",
       "    .dataframe tbody tr th:only-of-type {\n",
       "        vertical-align: middle;\n",
       "    }\n",
       "\n",
       "    .dataframe tbody tr th {\n",
       "        vertical-align: top;\n",
       "    }\n",
       "\n",
       "    .dataframe thead th {\n",
       "        text-align: right;\n",
       "    }\n",
       "</style>\n",
       "<table border=\"1\" class=\"dataframe\">\n",
       "  <thead>\n",
       "    <tr style=\"text-align: right;\">\n",
       "      <th></th>\n",
       "      <th>0</th>\n",
       "    </tr>\n",
       "  </thead>\n",
       "  <tbody>\n",
       "    <tr>\n",
       "      <th>56</th>\n",
       "      <td>SI Index on Sig3 (dimensionless)</td>\n",
       "    </tr>\n",
       "    <tr>\n",
       "      <th>57</th>\n",
       "      <td>SI Index on Sig3, numerator only (dB)</td>\n",
       "    </tr>\n",
       "    <tr>\n",
       "      <th>58</th>\n",
       "      <td>p on Sig3, phase spectral slope in the 0.1 to ...</td>\n",
       "    </tr>\n",
       "    <tr>\n",
       "      <th>59</th>\n",
       "      <td>T on Sig1, phase power spectral density at 1 H...</td>\n",
       "    </tr>\n",
       "    <tr>\n",
       "      <th>60</th>\n",
       "      <td>T on Sig2, phase power spectral density at 1 H...</td>\n",
       "    </tr>\n",
       "    <tr>\n",
       "      <th>61</th>\n",
       "      <td>T on Sig3, phase power spectral density at 1 H...</td>\n",
       "    </tr>\n",
       "  </tbody>\n",
       "</table>\n",
       "</div>"
      ],
      "text/plain": [
       "                                                    0\n",
       "56                   SI Index on Sig3 (dimensionless)\n",
       "57              SI Index on Sig3, numerator only (dB)\n",
       "58  p on Sig3, phase spectral slope in the 0.1 to ...\n",
       "59  T on Sig1, phase power spectral density at 1 H...\n",
       "60  T on Sig2, phase power spectral density at 1 H...\n",
       "61  T on Sig3, phase power spectral density at 1 H..."
      ]
     },
     "metadata": {},
     "output_type": "display_data"
    }
   ],
   "source": [
    "df_labels = pd.read_excel('CHAIN_data_labels.xlsx', sheet_name='PolaRxS_labels', header=None, usecols=[1])\n",
    "display(df_labels.head(6))\n",
    "display(df_labels.tail(6))"
   ]
  },
  {
   "cell_type": "markdown",
   "metadata": {},
   "source": [
    "1.2. Running Download_GNSS_CHAIN_data.py script"
   ]
  },
  {
   "cell_type": "code",
   "execution_count": 38,
   "metadata": {
    "cell_style": "center"
   },
   "outputs": [
    {
     "name": "stdout",
     "output_type": "stream",
     "text": [
      "numprocessors = 2\n",
      "-------> working on datetime = 2017-01-02 00:00:00\n",
      "-------> working on datetime = 2017-01-01 00:00:00\n",
      "this date = 2017-01-02 00:00:00\n",
      "this date = 2017-01-01 00:00:00\n",
      "this hour directory = /gps/ismr/2017/002/00/\n",
      "this hour directory = /gps/ismr/2017/001/00/\n",
      "this date = 2017-01-02 00:00:00\n",
      "this hour directory = /gps/ismr/2017/002/01/\n",
      "this date = 2017-01-01 00:00:00\n",
      "this hour directory = /gps/ismr/2017/001/01/\n",
      "Download_GNSS_CHAIN_data.py:133: UserWarning: genfromtxt: Empty input file: \"/home/kibrom/kwork/sw-GNSS/fdl18_Frontiers/GNSS_data_derived_products/level1/kugc17001b.ismr.gz\"\n",
      "  txt_thishour_thisfile = np.genfromtxt(local_fn_and_dir, delimiter=\",\", filling_values=99)\n",
      "this date = 2017-01-01 00:00:00\n",
      "this hour directory = /gps/ismr/2017/001/02/\n",
      "this date = 2017-01-02 00:00:00\n",
      "this hour directory = /gps/ismr/2017/002/02/\n",
      "this date = 2017-01-01 00:00:00\n",
      "this hour directory = /gps/ismr/2017/001/03/\n",
      "this date = 2017-01-02 00:00:00\n",
      "this hour directory = /gps/ismr/2017/002/03/\n",
      "this date = 2017-01-01 00:00:00\n",
      "this hour directory = /gps/ismr/2017/001/04/\n",
      "this date = 2017-01-02 00:00:00\n",
      "this hour directory = /gps/ismr/2017/002/04/\n",
      "this date = 2017-01-01 00:00:00\n",
      "this hour directory = /gps/ismr/2017/001/05/\n",
      "this date = 2017-01-02 00:00:00\n",
      "this hour directory = /gps/ismr/2017/002/05/\n",
      "this date = 2017-01-01 00:00:00\n",
      "this hour directory = /gps/ismr/2017/001/06/\n",
      "this date = 2017-01-02 00:00:00\n",
      "this hour directory = /gps/ismr/2017/002/06/\n",
      "this date = 2017-01-01 00:00:00\n",
      "this hour directory = /gps/ismr/2017/001/07/\n",
      "this date = 2017-01-02 00:00:00\n",
      "this hour directory = /gps/ismr/2017/002/07/\n",
      "this date = 2017-01-01 00:00:00\n",
      "this hour directory = /gps/ismr/2017/001/08/\n",
      "this date = 2017-01-02 00:00:00\n",
      "this hour directory = /gps/ismr/2017/002/08/\n",
      "this date = 2017-01-01 00:00:00\n",
      "this hour directory = /gps/ismr/2017/001/09/\n",
      "this date = 2017-01-02 00:00:00\n",
      "this hour directory = /gps/ismr/2017/002/09/\n",
      "this date = 2017-01-01 00:00:00\n",
      "this hour directory = /gps/ismr/2017/001/10/\n",
      "this date = 2017-01-02 00:00:00\n",
      "this hour directory = /gps/ismr/2017/002/10/\n",
      "this date = 2017-01-01 00:00:00\n",
      "this hour directory = /gps/ismr/2017/001/11/\n",
      "this date = 2017-01-02 00:00:00\n",
      "this hour directory = /gps/ismr/2017/002/11/\n",
      "this date = 2017-01-01 00:00:00\n",
      "this hour directory = /gps/ismr/2017/001/12/\n",
      "this date = 2017-01-02 00:00:00\n",
      "this hour directory = /gps/ismr/2017/002/12/\n",
      "this date = 2017-01-01 00:00:00\n",
      "this hour directory = /gps/ismr/2017/001/13/\n",
      "this date = 2017-01-02 00:00:00\n",
      "this hour directory = /gps/ismr/2017/002/13/\n",
      "this date = 2017-01-01 00:00:00\n",
      "this hour directory = /gps/ismr/2017/001/14/\n",
      "this date = 2017-01-02 00:00:00\n",
      "this hour directory = /gps/ismr/2017/002/14/\n",
      "this date = 2017-01-01 00:00:00\n",
      "this hour directory = /gps/ismr/2017/001/15/\n",
      "this date = 2017-01-02 00:00:00\n",
      "this hour directory = /gps/ismr/2017/002/15/\n",
      "this date = 2017-01-01 00:00:00\n",
      "this hour directory = /gps/ismr/2017/001/16/\n",
      "this date = 2017-01-02 00:00:00\n",
      "this hour directory = /gps/ismr/2017/002/16/\n",
      "this date = 2017-01-01 00:00:00\n",
      "this hour directory = /gps/ismr/2017/001/17/\n",
      "this date = 2017-01-02 00:00:00\n",
      "this hour directory = /gps/ismr/2017/002/17/\n",
      "this date = 2017-01-01 00:00:00\n",
      "this hour directory = /gps/ismr/2017/001/18/\n",
      "this date = 2017-01-02 00:00:00\n",
      "this hour directory = /gps/ismr/2017/002/18/\n",
      "this date = 2017-01-01 00:00:00\n",
      "this hour directory = /gps/ismr/2017/001/19/\n",
      "this date = 2017-01-02 00:00:00\n",
      "this hour directory = /gps/ismr/2017/002/19/\n",
      "this date = 2017-01-01 00:00:00\n",
      "this hour directory = /gps/ismr/2017/001/20/\n",
      "this date = 2017-01-02 00:00:00\n",
      "this hour directory = /gps/ismr/2017/002/20/\n",
      "this date = 2017-01-01 00:00:00\n",
      "this hour directory = /gps/ismr/2017/001/21/\n",
      "this date = 2017-01-02 00:00:00\n",
      "this hour directory = /gps/ismr/2017/002/21/\n",
      "this date = 2017-01-01 00:00:00\n",
      "this hour directory = /gps/ismr/2017/001/22/\n",
      "this date = 2017-01-02 00:00:00\n",
      "this hour directory = /gps/ismr/2017/002/22/\n",
      "this date = 2017-01-01 00:00:00\n",
      "this hour directory = /gps/ismr/2017/001/23/\n",
      "this date = 2017-01-02 00:00:00\n",
      "this hour directory = /gps/ismr/2017/002/23/\n"
     ]
    }
   ],
   "source": [
    "#This will run the script in a multiprocessor mode (2 processors in this specific example).\n",
    "#  I am running the script to download GNSS data for two days in 2017 (2017-1-1 to 2017-1-2). \n",
    "#The date specification is hardcoded in the script which can be changed according to the user's interest\n",
    "!python Download_GNSS_CHAIN_data.py 2\n",
    "#The csript will create 'PolaRxS_CHAINdata__Year_Doy.csv' files in a 'level1' directory."
   ]
  },
  {
   "cell_type": "code",
   "execution_count": 39,
   "metadata": {
    "cell_style": "center"
   },
   "outputs": [
    {
     "name": "stdout",
     "output_type": "stream",
     "text": [
      "CHAIN_data_labels.xlsx\t\t  GNSS_ISMR_data_preparation.ipynb\r\n",
      "CHAIN_stations_GSV4004Bonly.xlsx  level1\r\n",
      "CHAIN_stations_PolaRxSonly.xlsx   Preprocess_GNSS_data_for_pipeline.py\r\n",
      "Download_GNSS_CHAIN_data.py\r\n"
     ]
    }
   ],
   "source": [
    "!ls"
   ]
  },
  {
   "cell_type": "code",
   "execution_count": 48,
   "metadata": {
    "cell_style": "center"
   },
   "outputs": [
    {
     "name": "stdout",
     "output_type": "stream",
     "text": [
      "data_download_runtimes\t\t PolaRxS_CHAINdata__2017_002.csv\r\n",
      "PolaRxS_CHAINdata__2017_001.csv\r\n"
     ]
    }
   ],
   "source": [
    "#level1 directory contains .csv files for two days\n",
    "!ls ./level1/\n"
   ]
  },
  {
   "cell_type": "code",
   "execution_count": 61,
   "metadata": {},
   "outputs": [],
   "source": [
    "GNSS_raw_data = pd.read_csv('./level1/PolaRxS_CHAINdata__2017_001.csv')"
   ]
  },
  {
   "cell_type": "code",
   "execution_count": 121,
   "metadata": {},
   "outputs": [
    {
     "data": {
      "text/plain": [
       "Index(['Unnamed: 0', 'WN, GPS Week Number', 'TOW, GPS Time of Week (seconds)',\n",
       "       'SVID (see numbering convention in the SBF Outline section of the Reference Guide)',\n",
       "       'Value of the RxState field of the ReceiverStatus SBF block',\n",
       "       'Azimuth (degrees)', 'Elevation (degrees)',\n",
       "       'Average Sig1 C/N0 over the last minute (dB-Hz)',\n",
       "       'Total S4 on Sig1 (dimensionless)',\n",
       "       'Correction to total S4 on Sig1 (thermal noise component only) (dimensionless)',\n",
       "       'Phi01 on Sig1, 1-second phase sigma (radians)',\n",
       "       'Phi03 on Sig1, 3-second phase sigma (radians)',\n",
       "       'Phi10 on Sig1, 10-second phase sigma (radians)',\n",
       "       'Phi30 on Sig1, 30-second phase sigma (radians)',\n",
       "       'Phi60 on Sig1, 60-second phase sigma (radians)',\n",
       "       'AvgCCD on Sig1, average of code/carrier divergence (meters)',\n",
       "       'SigmaCCD on Sig1, standard deviation of code/carrier divergence (meters)',\n",
       "       'TEC at TOW-45s (TECU), taking calibration into account (see -C option)',\n",
       "       'dTEC from TOW-60s to TOW-45s (TECU)',\n",
       "       'TEC at TOW-30s (TECU), taking calibration into account (see -C option)',\n",
       "       'dTEC from TOW-45s to TOW-30s (TECU)',\n",
       "       'TEC at TOW-15s (TECU), taking calibration into account (see -C option)',\n",
       "       'dTEC from TOW-30s to TOW-15s (TECU)',\n",
       "       'TEC at TOW (TECU), taking calibration into account (see -C option)',\n",
       "       'dTEC from TOW-15s to TOW (TECU)', 'Sig1 lock time (seconds)',\n",
       "       'sbf2ismr version number',\n",
       "       'Lock time on the second frequency used for the TEC computation (seconds)',\n",
       "       'Averaged C/N0 of second frequency used for the TEC computation (dB-Hz)',\n",
       "       'SI Index on Sig1: (10*log10(Pmax)-10*log10(Pmin))/(10*log10(Pmax)+10*log10(Pmin)) (dimensionless)',\n",
       "       'SI Index on Sig1, numerator only: 10*log10(Pmax)-10*log10(Pmin) (dB)',\n",
       "       'p on Sig1, spectral slope of detrended phase in the 0.1 to 25Hz range (dimensionless)',\n",
       "       'Average Sig2 C/N0 over the last minute (dB-Hz)',\n",
       "       'Total S4 on Sig2 (dimensionless)',\n",
       "       'Correction to total S4 on Sig2 (thermal noise component only) (dimensionless)',\n",
       "       'Phi01 on Sig2, 1-second phase sigma (radians)',\n",
       "       'Phi03 on Sig2, 3-second phase sigma (radians)',\n",
       "       'Phi10 on Sig2, 10-second phase sigma (radians)',\n",
       "       'Phi30 on Sig2, 30-second phase sigma (radians)',\n",
       "       'Phi60 on Sig2, 60-second phase sigma (radians)',\n",
       "       'AvgCCD on Sig2, average of code/carrier divergence (meters)',\n",
       "       'SigmaCCD on Sig2, standard deviation of code/carrier divergence (meters)',\n",
       "       'Sig2 lock time (seconds)', 'SI Index on Sig2 (dimensionless)',\n",
       "       'SI Index on Sig2, numerator only (dB)',\n",
       "       'p on Sig2, phase spectral slope in the 0.1 to 25Hz range (dimensionless)',\n",
       "       'Average Sig3 C/N0 over the last minute (dB-Hz)',\n",
       "       'Total S4 on Sig3 (dimensionless)',\n",
       "       'Correction to total S4 on Sig3 (thermal noise component only) (dimensionless)',\n",
       "       'Phi01 on Sig3, 1-second phase sigma (radians)',\n",
       "       'Phi03 on Sig3, 3-second phase sigma (radians)',\n",
       "       'Phi10 on Sig3, 10-second phase sigma (radians)',\n",
       "       'Phi30 on Sig3, 30-second phase sigma (radians)',\n",
       "       'Phi60 on Sig3, 60-second phase sigma (radians)',\n",
       "       'AvgCCD on Sig3, average of code/carrier divergence (meters)',\n",
       "       'SigmaCCD on Sig3, standard deviation of code/carrier divergence (meters)',\n",
       "       'Sig3 lock time (seconds)', 'SI Index on Sig3 (dimensionless)',\n",
       "       'SI Index on Sig3, numerator only (dB)',\n",
       "       'p on Sig3, phase spectral slope in the 0.1 to 25Hz range (dimensionless)',\n",
       "       'T on Sig1, phase power spectral density at 1 Hz (rad^2/Hz)',\n",
       "       'T on Sig2, phase power spectral density at 1 Hz (rad^2/Hz)',\n",
       "       'T on Sig3, phase power spectral density at 1 Hz (rad^2/Hz)',\n",
       "       'CHAIN station'],\n",
       "      dtype='object')"
      ]
     },
     "execution_count": 121,
     "metadata": {},
     "output_type": "execute_result"
    }
   ],
   "source": [
    "GNSS_raw_data.columns"
   ]
  },
  {
   "cell_type": "markdown",
   "metadata": {},
   "source": [
    "# Step 2: Preprocess GNSS data "
   ]
  },
  {
   "cell_type": "markdown",
   "metadata": {},
   "source": [
    "\n",
    "2.1. Required files:\n",
    "\n",
    "A). Preprocess_GNSS_data_for_pipeline.py --- this script processes the .csv files created in the above step. New ml_database__Year_Doy.csv files with the required features and targets are then created and stored in 'level2' directory.\n",
    "The script requires two input files (see B.))\n",
    "\n"
   ]
  },
  {
   "cell_type": "code",
   "execution_count": 42,
   "metadata": {},
   "outputs": [
    {
     "name": "stdout",
     "output_type": "stream",
     "text": [
      "\tprint('numprocessors = {0}'.format(numprocessors))\r\n",
      "\r\n",
      "\tpool = multiprocessing.Pool(numprocessors)\r\n",
      "\tdatetime_start = datetime.datetime(2017,1,1)\r\n",
      "\tinput_datetimes = [ (datetime_start + datetime.timedelta(days=d)) for d in (range(1)) ]\r\n",
      "\tpool.map(PolaRxS_MLDatabaseGeneration,input_datetimes) \r\n",
      "\r\n",
      "\r\n",
      "if __name__=='__main__':\r\n",
      "\tmain()\r\n"
     ]
    }
   ],
   "source": [
    "!tail Preprocess_GNSS_data_for_pipeline.py"
   ]
  },
  {
   "cell_type": "markdown",
   "metadata": {},
   "source": [
    "B.) In addition to CHAIN_data_labels.xlsx , this script requires 'CHAIN_stations_PolaRxSonly.xlsx', \n",
    "which is a GNSS station list information.\n",
    "\n",
    "------------------------------------------------"
   ]
  },
  {
   "cell_type": "code",
   "execution_count": 45,
   "metadata": {},
   "outputs": [
    {
     "data": {
      "text/html": [
       "<div>\n",
       "<style scoped>\n",
       "    .dataframe tbody tr th:only-of-type {\n",
       "        vertical-align: middle;\n",
       "    }\n",
       "\n",
       "    .dataframe tbody tr th {\n",
       "        vertical-align: top;\n",
       "    }\n",
       "\n",
       "    .dataframe thead th {\n",
       "        text-align: right;\n",
       "    }\n",
       "</style>\n",
       "<table border=\"1\" class=\"dataframe\">\n",
       "  <thead>\n",
       "    <tr style=\"text-align: right;\">\n",
       "      <th></th>\n",
       "      <th>Name</th>\n",
       "      <th>Abbr</th>\n",
       "      <th>Lat</th>\n",
       "      <th>Lon</th>\n",
       "      <th>Instrument</th>\n",
       "      <th>Model</th>\n",
       "      <th>ID</th>\n",
       "    </tr>\n",
       "  </thead>\n",
       "  <tbody>\n",
       "    <tr>\n",
       "      <th>0</th>\n",
       "      <td>Arctic Bay</td>\n",
       "      <td>arc</td>\n",
       "      <td>73.004093</td>\n",
       "      <td>274.973959</td>\n",
       "      <td>GISTM/GPS</td>\n",
       "      <td>PolaRxS</td>\n",
       "      <td>1</td>\n",
       "    </tr>\n",
       "    <tr>\n",
       "      <th>1</th>\n",
       "      <td>Arviat</td>\n",
       "      <td>arv</td>\n",
       "      <td>61.097941</td>\n",
       "      <td>265.928533</td>\n",
       "      <td>GISTM/GPS</td>\n",
       "      <td>PolaRxS</td>\n",
       "      <td>2</td>\n",
       "    </tr>\n",
       "    <tr>\n",
       "      <th>2</th>\n",
       "      <td>Churchill</td>\n",
       "      <td>chu</td>\n",
       "      <td>58.759279</td>\n",
       "      <td>265.913402</td>\n",
       "      <td>GISTM/GPS</td>\n",
       "      <td>PolaRxS</td>\n",
       "      <td>4</td>\n",
       "    </tr>\n",
       "    <tr>\n",
       "      <th>3</th>\n",
       "      <td>Coral Harbour</td>\n",
       "      <td>cor</td>\n",
       "      <td>64.188201</td>\n",
       "      <td>276.650145</td>\n",
       "      <td>GISTM/GPS</td>\n",
       "      <td>PolaRxS</td>\n",
       "      <td>5</td>\n",
       "    </tr>\n",
       "    <tr>\n",
       "      <th>4</th>\n",
       "      <td>Fort McMurray</td>\n",
       "      <td>mcm</td>\n",
       "      <td>56.649535</td>\n",
       "      <td>248.779728</td>\n",
       "      <td>GISTM/GPS</td>\n",
       "      <td>PolaRxS</td>\n",
       "      <td>7</td>\n",
       "    </tr>\n",
       "    <tr>\n",
       "      <th>5</th>\n",
       "      <td>Fort Simpson</td>\n",
       "      <td>fsi</td>\n",
       "      <td>61.756554</td>\n",
       "      <td>238.771946</td>\n",
       "      <td>GISTM/GPS</td>\n",
       "      <td>PolaRxS</td>\n",
       "      <td>8</td>\n",
       "    </tr>\n",
       "    <tr>\n",
       "      <th>6</th>\n",
       "      <td>Fort Smith</td>\n",
       "      <td>fsm</td>\n",
       "      <td>60.026095</td>\n",
       "      <td>248.067109</td>\n",
       "      <td>GISTM/GPS</td>\n",
       "      <td>PolaRxS</td>\n",
       "      <td>9</td>\n",
       "    </tr>\n",
       "    <tr>\n",
       "      <th>7</th>\n",
       "      <td>Gillam</td>\n",
       "      <td>gil</td>\n",
       "      <td>56.376600</td>\n",
       "      <td>265.356197</td>\n",
       "      <td>GISTM/GPS</td>\n",
       "      <td>PolaRxS</td>\n",
       "      <td>10</td>\n",
       "    </tr>\n",
       "    <tr>\n",
       "      <th>8</th>\n",
       "      <td>Gjoa Haven</td>\n",
       "      <td>gjo</td>\n",
       "      <td>68.632630</td>\n",
       "      <td>264.151719</td>\n",
       "      <td>GISTM/GPS</td>\n",
       "      <td>PolaRxS</td>\n",
       "      <td>11</td>\n",
       "    </tr>\n",
       "    <tr>\n",
       "      <th>9</th>\n",
       "      <td>Grise Fiord</td>\n",
       "      <td>gri</td>\n",
       "      <td>76.423281</td>\n",
       "      <td>277.096506</td>\n",
       "      <td>GISTM/GPS</td>\n",
       "      <td>PolaRxS</td>\n",
       "      <td>12</td>\n",
       "    </tr>\n",
       "    <tr>\n",
       "      <th>10</th>\n",
       "      <td>Kugluktuk</td>\n",
       "      <td>kug</td>\n",
       "      <td>67.817781</td>\n",
       "      <td>244.865276</td>\n",
       "      <td>GISTM/GPS</td>\n",
       "      <td>PolaRxS</td>\n",
       "      <td>15</td>\n",
       "    </tr>\n",
       "    <tr>\n",
       "      <th>11</th>\n",
       "      <td>Ministik Lake</td>\n",
       "      <td>edm</td>\n",
       "      <td>53.350818</td>\n",
       "      <td>247.026160</td>\n",
       "      <td>GISTM/GPS</td>\n",
       "      <td>PolaRxS</td>\n",
       "      <td>16</td>\n",
       "    </tr>\n",
       "    <tr>\n",
       "      <th>12</th>\n",
       "      <td>Rabbit Lake</td>\n",
       "      <td>rab</td>\n",
       "      <td>58.226935</td>\n",
       "      <td>256.322945</td>\n",
       "      <td>GISTM/GPS</td>\n",
       "      <td>PolaRxS</td>\n",
       "      <td>19</td>\n",
       "    </tr>\n",
       "    <tr>\n",
       "      <th>13</th>\n",
       "      <td>Rankin Inlet</td>\n",
       "      <td>ran</td>\n",
       "      <td>62.824700</td>\n",
       "      <td>267.885291</td>\n",
       "      <td>GISTM/GPS</td>\n",
       "      <td>PolaRxS</td>\n",
       "      <td>20</td>\n",
       "    </tr>\n",
       "    <tr>\n",
       "      <th>14</th>\n",
       "      <td>Repulse Bay</td>\n",
       "      <td>rep</td>\n",
       "      <td>66.523589</td>\n",
       "      <td>273.768972</td>\n",
       "      <td>GISTM/GPS</td>\n",
       "      <td>PolaRxS</td>\n",
       "      <td>21</td>\n",
       "    </tr>\n",
       "    <tr>\n",
       "      <th>15</th>\n",
       "      <td>Sachs Harbour</td>\n",
       "      <td>sac</td>\n",
       "      <td>71.990630</td>\n",
       "      <td>234.739381</td>\n",
       "      <td>GISTM/GPS</td>\n",
       "      <td>PolaRxS</td>\n",
       "      <td>23</td>\n",
       "    </tr>\n",
       "  </tbody>\n",
       "</table>\n",
       "</div>"
      ],
      "text/plain": [
       "             Name Abbr        Lat         Lon Instrument    Model  ID\n",
       "0      Arctic Bay  arc  73.004093  274.973959  GISTM/GPS  PolaRxS   1\n",
       "1          Arviat  arv  61.097941  265.928533  GISTM/GPS  PolaRxS   2\n",
       "2       Churchill  chu  58.759279  265.913402  GISTM/GPS  PolaRxS   4\n",
       "3   Coral Harbour  cor  64.188201  276.650145  GISTM/GPS  PolaRxS   5\n",
       "4   Fort McMurray  mcm  56.649535  248.779728  GISTM/GPS  PolaRxS   7\n",
       "5    Fort Simpson  fsi  61.756554  238.771946  GISTM/GPS  PolaRxS   8\n",
       "6      Fort Smith  fsm  60.026095  248.067109  GISTM/GPS  PolaRxS   9\n",
       "7          Gillam  gil  56.376600  265.356197  GISTM/GPS  PolaRxS  10\n",
       "8      Gjoa Haven  gjo  68.632630  264.151719  GISTM/GPS  PolaRxS  11\n",
       "9     Grise Fiord  gri  76.423281  277.096506  GISTM/GPS  PolaRxS  12\n",
       "10      Kugluktuk  kug  67.817781  244.865276  GISTM/GPS  PolaRxS  15\n",
       "11  Ministik Lake  edm  53.350818  247.026160  GISTM/GPS  PolaRxS  16\n",
       "12    Rabbit Lake  rab  58.226935  256.322945  GISTM/GPS  PolaRxS  19\n",
       "13   Rankin Inlet  ran  62.824700  267.885291  GISTM/GPS  PolaRxS  20\n",
       "14    Repulse Bay  rep  66.523589  273.768972  GISTM/GPS  PolaRxS  21\n",
       "15  Sachs Harbour  sac  71.990630  234.739381  GISTM/GPS  PolaRxS  23"
      ]
     },
     "execution_count": 45,
     "metadata": {},
     "output_type": "execute_result"
    }
   ],
   "source": [
    "GNSS_stations = pd.read_excel('CHAIN_stations_PolaRxSonly.xlsx')\n",
    "GNSS_stations"
   ]
  },
  {
   "cell_type": "markdown",
   "metadata": {},
   "source": [
    "2.2. Running the Preprocess_GNSS_data_for_pipeline.py script"
   ]
  },
  {
   "cell_type": "code",
   "execution_count": null,
   "metadata": {},
   "outputs": [
    {
     "name": "stdout",
     "output_type": "stream",
     "text": [
      "numprocessors = 1\r\n",
      "-------> working on datetime = 2017-01-01 00:00:00\r\n"
     ]
    }
   ],
   "source": [
    "#This will run the script in a multiprocessor mode (1 processor in this specific example).\n",
    "#  I am running the script to process GNSS data from the leve1 directory for one day in 2017 (2017-1-1).\n",
    "!python Preprocess_GNSS_data_for_pipeline.py 1\n",
    "#The csript will create 'ml_database__Year_Doy.csv' file in a 'level2' directory, which will be the final ML input GNSS \n",
    "#data to be combined with other sources of data (Solar data, intermagentic data e.t.c. ...)"
   ]
  },
  {
   "cell_type": "code",
   "execution_count": 49,
   "metadata": {},
   "outputs": [
    {
     "name": "stdout",
     "output_type": "stream",
     "text": [
      "CHAIN_data_labels.xlsx\t\t  GNSS_ISMR_data_preparation.ipynb\r\n",
      "CHAIN_stations_GSV4004Bonly.xlsx  level1\r\n",
      "CHAIN_stations_PolaRxSonly.xlsx   level2\r\n",
      "Download_GNSS_CHAIN_data.py\t  Preprocess_GNSS_data_for_pipeline.py\r\n"
     ]
    }
   ],
   "source": [
    "!ls"
   ]
  },
  {
   "cell_type": "code",
   "execution_count": 50,
   "metadata": {},
   "outputs": [
    {
     "name": "stdout",
     "output_type": "stream",
     "text": [
      "ml_database__2017_001.csv  ml_db_generator_runtimes\r\n"
     ]
    }
   ],
   "source": [
    "!ls ./level2/"
   ]
  },
  {
   "cell_type": "code",
   "execution_count": 92,
   "metadata": {},
   "outputs": [],
   "source": [
    "ml_database = pd.read_csv('./level2/ml_database__2017_001.csv')"
   ]
  },
  {
   "cell_type": "code",
   "execution_count": 98,
   "metadata": {},
   "outputs": [],
   "source": [
    "ml_database['datetime'] = ml_database['datetime'].apply(pd.to_datetime)\n",
    "ml_database.set_index('datetime', inplace=True)"
   ]
  },
  {
   "cell_type": "code",
   "execution_count": 118,
   "metadata": {},
   "outputs": [
    {
     "data": {
      "text/plain": [
       "Index(['Unnamed: 0', 'doy', 'ut', 'azimuth [deg]', 'elevation [deg]',\n",
       "       'geographic latitude [deg]', 'geographic longitude [deg]',\n",
       "       'TEC at current time [TECU]', 'dTEC 0min-15s to 0min-0s [TECU]',\n",
       "       'SI [dimensionless]', 'spectral slope [dimensionless]',\n",
       "       'S4 [dimensionless]', 'S4 projected to vertical [dimensionless]',\n",
       "       'sigmaPhi [radians]', 'sigmaPhi projected to vertical [radians]',\n",
       "       'datetime at prediction time (.5h)', 'ut at prediction time(.5h) [sec]',\n",
       "       'doy at prediction time(.5h) [sec]',\n",
       "       'TEC at prediction time(.5h) [TECU]',\n",
       "       'dTEC at prediction time(.5h) [TECU]',\n",
       "       'S4 at prediction time(.5h) [dimensionless]',\n",
       "       'S4 projected to vertical at prediction time(.5h) [dimensionless]',\n",
       "       'sigmaPhi at prediction time(.5h) [radians]',\n",
       "       'sigmaPhi projected to vertical at prediction time(.5h) [radians]',\n",
       "       'datetime at prediction time (1h)', 'ut at prediction time(1h) [sec]',\n",
       "       'doy at prediction time(1h) [sec]', 'TEC at prediction time(1h) [TECU]',\n",
       "       'dTEC at prediction time(1h) [TECU]',\n",
       "       'S4 at prediction time(1h) [dimensionless]',\n",
       "       'S4 projected to vertical at prediction time(1h) [dimensionless]',\n",
       "       'sigmaPhi at prediction time(1h) [radians]',\n",
       "       'sigmaPhi projected to vertical at prediction time(1h) [radians]',\n",
       "       'datetime at prediction time (3h)', 'ut at prediction time(3h) [sec]',\n",
       "       'doy at prediction time(3h) [sec]', 'TEC at prediction time(3h) [TECU]',\n",
       "       'dTEC at prediction time(3h) [TECU]',\n",
       "       'S4 at prediction time(3h) [dimensionless]',\n",
       "       'S4 projected to vertical at prediction time(3h) [dimensionless]',\n",
       "       'sigmaPhi at prediction time(3h) [radians]',\n",
       "       'sigmaPhi projected to vertical at prediction time(3h) [radians]',\n",
       "       'datetime at prediction time (6h)', 'ut at prediction time(6h) [sec]',\n",
       "       'doy at prediction time(6h) [sec]', 'TEC at prediction time(6h) [TECU]',\n",
       "       'dTEC at prediction time(6h) [TECU]',\n",
       "       'S4 at prediction time(6h) [dimensionless]',\n",
       "       'S4 projected to vertical at prediction time(6h) [dimensionless]',\n",
       "       'sigmaPhi at prediction time(6h) [radians]',\n",
       "       'sigmaPhi projected to vertical at prediction time(6h) [radians]',\n",
       "       'datetime at prediction time (9h)', 'ut at prediction time(9h) [sec]',\n",
       "       'doy at prediction time(9h) [sec]', 'TEC at prediction time(9h) [TECU]',\n",
       "       'dTEC at prediction time(9h) [TECU]',\n",
       "       'S4 at prediction time(9h) [dimensionless]',\n",
       "       'S4 projected to vertical at prediction time(9h) [dimensionless]',\n",
       "       'sigmaPhi at prediction time(9h) [radians]',\n",
       "       'sigmaPhi projected to vertical at prediction time(9h) [radians]',\n",
       "       'datetime at prediction time (12h)', 'ut at prediction time(12h) [sec]',\n",
       "       'doy at prediction time(12h) [sec]',\n",
       "       'TEC at prediction time(12h) [TECU]',\n",
       "       'dTEC at prediction time(12h) [TECU]',\n",
       "       'S4 at prediction time(12h) [dimensionless]',\n",
       "       'S4 projected to vertical at prediction time(12h) [dimensionless]',\n",
       "       'sigmaPhi at prediction time(12h) [radians]',\n",
       "       'sigmaPhi projected to vertical at prediction time(12h) [radians]',\n",
       "       'datetime at prediction time (24h)', 'ut at prediction time(24h) [sec]',\n",
       "       'doy at prediction time(24h) [sec]',\n",
       "       'TEC at prediction time(24h) [TECU]',\n",
       "       'dTEC at prediction time(24h) [TECU]',\n",
       "       'S4 at prediction time(24h) [dimensionless]',\n",
       "       'S4 projected to vertical at prediction time(24h) [dimensionless]',\n",
       "       'sigmaPhi at prediction time(24h) [radians]',\n",
       "       'sigmaPhi projected to vertical at prediction time(24h) [radians]',\n",
       "       'CHAIN station', 'CHAIN station model', 'CHAIN station ID number'],\n",
       "      dtype='object')"
      ]
     },
     "execution_count": 118,
     "metadata": {},
     "output_type": "execute_result"
    }
   ],
   "source": [
    "ml_database.columns"
   ]
  },
  {
   "cell_type": "code",
   "execution_count": null,
   "metadata": {},
   "outputs": [],
   "source": []
  }
 ],
 "metadata": {
  "kernelspec": {
   "display_name": "Python 3",
   "language": "python",
   "name": "python3"
  },
  "language_info": {
   "codemirror_mode": {
    "name": "ipython",
    "version": 3
   },
   "file_extension": ".py",
   "mimetype": "text/x-python",
   "name": "python",
   "nbconvert_exporter": "python",
   "pygments_lexer": "ipython3",
   "version": "3.7.4"
  }
 },
 "nbformat": 4,
 "nbformat_minor": 2
}
